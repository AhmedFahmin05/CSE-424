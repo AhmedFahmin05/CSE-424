{
 "cells": [
  {
   "cell_type": "markdown",
   "metadata": {},
   "source": [
    "# Buffon's Needle"
   ]
  },
  {
   "cell_type": "markdown",
   "metadata": {},
   "source": [
    "In this notebook, we'll develop a \"needle\" class and use it to compare the result with the theoretical result. There is a great description of the problem in the wikipedia entry.\n",
    "\n",
    "https://en.wikipedia.org/wiki/Buffon%27s_needle"
   ]
  },
  {
   "cell_type": "code",
   "execution_count": null,
   "metadata": {},
   "outputs": [],
   "source": [
    "# Package management\n",
    "import math\n",
    "import random\n",
    "import matplotlib.pyplot as plt"
   ]
  },
  {
   "cell_type": "markdown",
   "metadata": {},
   "source": [
    "The needle class will represent an individual needle. Each instance will have unique $x$ and $y$ coordinates of the center of mass as well as an angle, $\\theta$, relative to the $x$-axis. The needle will also have a length.\n",
    "\n",
    "The needle has methods crosscheck and endpoints:\n",
    "\n",
    "needle.crosscheck() will evaluate whether the needle is crossing a grid line and return a boolean.\n",
    "\n",
    "needle.endpoints() will return the $x,y$ coordinates of the endpoints for plotting.\n"
   ]
  },
  {
   "cell_type": "code",
   "execution_count": null,
   "metadata": {},
   "outputs": [],
   "source": [
    "class needle:\n",
    "\n",
    "    def __init__(self):\n",
    "        self.x = #Please Complete\n",
    "        self.y = #Please Complete\n",
    "        self.theta = #Please Complete\n",
    "        self.length = #Please Complete\n",
    "\n",
    "        \n",
    "    def crosscheck(self):\n",
    "        # This method checks to see if the needle\n",
    "        # crosses the closest line.\n",
    "\n",
    "        # Find closest line\n",
    "\n",
    "        # Calculate projection along y-axis\n",
    "\n",
    "\n",
    "        # Check for crossing.  If the projection is greater\n",
    "        # than the distance from the closest line then the \n",
    "        # needle crosses.\n",
    "        \n",
    "\n",
    "\n",
    "\n",
    "    def endpoints(self):\n",
    "\n",
    "        # This method uses basic trigonometry to\n",
    "        # calculate the endpoints of the needle.\n",
    "        x_proj = #Please Complete\n",
    "        y_proj = #Please Complete\n",
    "        x =  #Please Complete\n",
    "        y =  #Please Complete\n",
    "        pts = [x,y]\n",
    "\n",
    "        return pts"
   ]
  },
  {
   "cell_type": "markdown",
   "metadata": {},
   "source": [
    "Let's test out the needle class with a basic simulation. We'll drop a few needles and plot them on a grid, color coordinating needles that cross and needles that don't.\n"
   ]
  },
  {
   "cell_type": "code",
   "execution_count": null,
   "metadata": {},
   "outputs": [],
   "source": [
    "for i in range(200):\n",
    "\n",
    "    # Instantiate needle\n",
    "\n",
    "    # Get the endpoints\n",
    "\n",
    "    # Check for crossing and color code plot\n",
    "    \n",
    "# Format plot \n",
    "ygrid = range(0,11)\n",
    "plt.hlines(ygrid,-1,11) \n",
    "plt.axis('on')\n",
    "plt.title('Buffon\\'s Needle Simulation')\n",
    "plt.show()"
   ]
  },
  {
   "cell_type": "markdown",
   "metadata": {},
   "source": [
    "# Compute the probability "
   ]
  },
  {
   "cell_type": "code",
   "execution_count": null,
   "metadata": {},
   "outputs": [],
   "source": []
  },
  {
   "cell_type": "markdown",
   "metadata": {},
   "source": [
    "# Compute the error"
   ]
  },
  {
   "cell_type": "code",
   "execution_count": null,
   "metadata": {},
   "outputs": [],
   "source": []
  },
  {
   "cell_type": "markdown",
   "metadata": {},
   "source": [
    "# Run the simulation for 5 different rounds and observe the result."
   ]
  },
  {
   "cell_type": "code",
   "execution_count": null,
   "metadata": {},
   "outputs": [],
   "source": []
  }
 ],
 "metadata": {
  "kernelspec": {
   "display_name": "Python 3",
   "language": "python",
   "name": "python3"
  },
  "language_info": {
   "codemirror_mode": {
    "name": "ipython",
    "version": 3
   },
   "file_extension": ".py",
   "mimetype": "text/x-python",
   "name": "python",
   "nbconvert_exporter": "python",
   "pygments_lexer": "ipython3",
   "version": "3.7.4"
  }
 },
 "nbformat": 4,
 "nbformat_minor": 2
}
